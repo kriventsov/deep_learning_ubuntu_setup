{
 "cells": [
  {
   "cell_type": "markdown",
   "metadata": {},
   "source": [
    "# Setting up a new deep learning station with Python 3.6, Keras, Tensorflow and OpenCV using Ubuntu 16.04 on a Google Cloud VM instance"
   ]
  },
  {
   "cell_type": "markdown",
   "metadata": {},
   "source": [
    "## Step 1: Create a new VM instance with a GPU"
   ]
  },
  {
   "cell_type": "markdown",
   "metadata": {},
   "source": [
    "### 0) Generate your own SSH key pair which you will use to connect to your instance after creating it.\n",
    "\n",
    "You may skip this step if you already have an SSH key, or if you are sure you will log into your instance only from Google Cloud Console. \n",
    "\n",
    "Otherwise, create a new SSH key (a public/private key pair) on your computer. The specific procedure for doing this depends on your system. In most environments, you can use ssh-keygen in the command line. In Windows, use PuttyGen software (download and install Putty from https://www.chiark.greenend.org.uk/~sgtatham/putty/latest.html). \n",
    "\n",
    "If you are not sure how to create an SSH key, there are many tutorials online.\n",
    "\n",
    "Save your SSH key in a file.\n",
    "\n",
    "\n",
    "### 1) Log in to Google Cloud Console\n",
    "\n",
    "\n",
    "### 2) Go to Menu (left upper corner) -> IAM and admin -> Quotas\n",
    "\n",
    "Select Metric -> NVIDIA K80 GPUs\n",
    "\n",
    "Among available locations, choose the one closest to you geographically\n",
    "\n",
    "If the current GPU quota for your chosen location is 0, click Edit Quotas and set the quota limit to 1\n",
    "\n",
    "In Request description, explain what you will need the GPU for.\n",
    "\n",
    "If you are new to Google Cloud, your request will probably not be approved automatically. You may need to make a deposit and contact support in order to be able to use a GPU.\n",
    "\n",
    "\n",
    "### 3) Go to Menu (left upper corner) -> Compute Engine -> VM instances\n",
    "\n",
    "Click the blue Create button.\n",
    "\n",
    "\n",
    "Specify the instance parameters (these would depend on your budget and goals). \n",
    "Here are my choices:\n",
    "\n",
    "<i>Zone</i>: \n",
    "    \n",
    "    Same zone for which you have the GPU quota approved.\n",
    "\n",
    "<i>Machine type</i>: \n",
    "    \n",
    "    Click Customize, choose Cores: 4 (4 vCPU), Memory: 26 GB, CPU Platform: Inter Broadwell or later, GPUs: 1 NVIDIA Tesla K80.\n",
    "\n",
    "<i>Container</i>:\n",
    "    \n",
    "    Leave unchecked.\n",
    "\n",
    "<i>Boot disk</i>: \n",
    "\n",
    "    OS Images: Ubuntu 16.04 LTS\n",
    "    \n",
    "    Boot Disk Type: SSD persistent disk\n",
    "    \n",
    "    Size: 100GB\n",
    "\n",
    "<i>Identity and API access</i>:\n",
    "    \n",
    "    Keep default options\n",
    "    \n",
    "<i>Firewall</i>:\n",
    "    \n",
    "    Select both Allow HTTP traffic and Allow HTTPS traffic\n",
    "    \n",
    "<i>Management, disks, networking, SSH keys</i>:\n",
    "    \n",
    "    Do not change anything. I am not sure if there is a bug in Google Cloud Console or I just don't understand how this is supposed to work, but whatever SSH keys I tried setting either here or globally for the project did not get saved on the VM instance. Instead, Cloud Console saved its own SSH keys, so until I realized what was happening, I was not able to access the VM instance using non-console SSH/SCP/FTP tools. \n",
    "    \n",
    "After making all of these selections, click Create and confirm that you are willing to be billed for this instance.\n",
    "\n",
    "### 4) Once the instance has been created, click on the SSH button in the row corresponding to this instance under Connect header\n",
    "\n",
    "A new window will open, and after about a minute of authentication you will be able to access the Ubuntu command line tools on your new VM instance\n",
    "\n",
    "### 5) Add your own SSH key to the instance so that you can log in using tools other than Google Cloud Console\n",
    "\n",
    "I am using Vi text file editor to perform this step. If you have a different favorite editor, feel free to use it instead. What you need to do is add the public SSH key you generated in part 0 above to the ~/.ssh/authorized_keys file.\n",
    "\n",
    "In the SSH window for your new instance, type \n",
    "> sudo vi ~/.ssh/authorized_keys\n",
    "\n",
    "Scroll to the end of the file.\n",
    "Press \"a\" key to enable editing.\n",
    "Append your generated public key to the end of the file.\n",
    "Press the \"ESC\" key and then type \n",
    "> :wq \n",
    "\n",
    "followed by the \"Enter\" key. This will save the changes on disk.\n",
    "\n",
    "Close the SSH window and verify that you can log into your VM instance using both the Cloud Console and other software that you might have. In the latter case you will need to provide your software with the SSH key that you saved on the VM instance.\n",
    "\n",
    "When editing important files by hand as we did above, it is possible to make a mistake that would render the file useless, in which case you might not be able to log in. If this happens, delete your newly created VM instance in the Google Cloud Console (click on the triple dot at the end of the row corresponding to your instance and choose Delete) and try again starting from step 3 above. "
   ]
  },
  {
   "cell_type": "markdown",
   "metadata": {},
   "source": [
    "## Step 2: Install CUDA 9.0"
   ]
  },
  {
   "cell_type": "markdown",
   "metadata": {},
   "source": [
    "This part of the instructions is heavily based on https://yangcha.github.io/CUDA90/\n",
    "\n",
    "\n",
    "### 1) Create a directory for downloads to keep things neat\n",
    "\n",
    "> mkdir downloads\n",
    "\n",
    "> cd downloads\n",
    "\n",
    "### 2) Make sure the system is updated\n",
    "\n",
    "> sudo apt-get update\n",
    "\n",
    "> sudo apt-get upgrade\n",
    "\n",
    "### 3) Install unzip\n",
    "\n",
    "> sudo apt-get install unzip\n",
    "\n",
    "### 4) Download CUDA 9.0 files\n",
    "\n",
    "> sudo apt-key adv --fetch-keys http://developer.download.nvidia.com/compute/cuda/repos/ubuntu1604/x86_64/7fa2af80.pub\n",
    "\n",
    "> wget http://developer.download.nvidia.com/compute/cuda/repos/ubuntu1604/x86_64/cuda-repo-ubuntu1604_9.0.176-1_amd64.deb\n",
    "\n",
    "> wget http://developer.download.nvidia.com/compute/machine-learning/repos/ubuntu1604/x86_64/libcudnn7_7.0.5.15-1+cuda9.0_amd64.deb\n",
    "\n",
    "> wget http://developer.download.nvidia.com/compute/machine-learning/repos/ubuntu1604/x86_64/libcudnn7-dev_7.0.5.15-1+cuda9.0_amd64.deb\n",
    "\n",
    "> wget http://developer.download.nvidia.com/compute/machine-learning/repos/ubuntu1604/x86_64/libnccl2_2.1.4-1+cuda9.0_amd64.deb\n",
    "\n",
    "> wget http://developer.download.nvidia.com/compute/machine-learning/repos/ubuntu1604/x86_64/libnccl-dev_2.1.4-1+cuda9.0_amd64.deb\n",
    "\n",
    "### 5) Unpack the downloaded files\n",
    "\n",
    "> sudo dpkg -i cuda-repo-ubuntu1604_9.0.176-1_amd64.deb\n",
    "\n",
    "> sudo dpkg -i libcudnn7_7.0.5.15-1+cuda9.0_amd64.deb\n",
    "\n",
    "> sudo dpkg -i libcudnn7-dev_7.0.5.15-1+cuda9.0_amd64.deb\n",
    "\n",
    "> sudo dpkg -i libnccl2_2.1.4-1+cuda9.0_amd64.deb\n",
    "\n",
    "> sudo dpkg -i libnccl-dev_2.1.4-1+cuda9.0_amd64.deb\n",
    "\n",
    "> sudo apt-get update\n",
    "\n",
    "### 6) Install the downloaded files (takes about 5 minutes)\n",
    "\n",
    "> sudo apt-get install cuda=9.0.176-1\n",
    "\n",
    "\n",
    "### 7) Reboot the system to load the NVIDIA drivers\n",
    "\n",
    "> sudo reboot\n",
    "\n",
    "At this point you should get disconnected from your SSH session. Give your VM instance a minute to reboot, then restart the session.\n",
    "\n",
    "### 8) Adjust the paths to include CUDA locations\n",
    "\n",
    "Open the .bashrc file for editing using Vi.\n",
    "\n",
    "> sudo vi ~/.bashrc\n",
    "\n",
    "Add the following two lines to the end of the file (as in Step 1, part 5 above where we added an SSH key):"
   ]
  },
  {
   "cell_type": "raw",
   "metadata": {},
   "source": [
    "export PATH=/usr/local/cuda-9.0/bin${PATH:+:${PATH}}\n",
    "export LD_LIBRARY_PATH=/usr/local/cuda-9.0/lib64${LD_LIBRARY_PATH:+:${LD_LIBRARY_PATH}}"
   ]
  },
  {
   "cell_type": "markdown",
   "metadata": {},
   "source": [
    "Reload the .bashrc file\n",
    "\n",
    "> source ~/.bashrc\n",
    "\n",
    "### 9) Verify that CUDA has been installed\n",
    "\n",
    "Type\n",
    "\n",
    "> nvcc --version\n",
    "\n",
    "You should get CUDA 9.0 as your current version. Here's the full output:"
   ]
  },
  {
   "cell_type": "raw",
   "metadata": {},
   "source": [
    "nvcc: NVIDIA (R) Cuda compiler driver\n",
    "Copyright (c) 2005-2017 NVIDIA Corporation\n",
    "Built on Fri_Sep__1_21:08:03_CDT_2017\n",
    "Cuda compilation tools, release 9.0, V9.0.176"
   ]
  },
  {
   "cell_type": "markdown",
   "metadata": {},
   "source": [
    "### The following seven steps are largely based on https://www.pyimagesearch.com/2016/10/24/ubuntu-16-04-how-to-install-opencv/ "
   ]
  },
  {
   "cell_type": "markdown",
   "metadata": {},
   "source": [
    "## Step 3: Install build tools"
   ]
  },
  {
   "cell_type": "markdown",
   "metadata": {},
   "source": [
    "> cd downloads\n",
    "\n",
    "> sudo apt-get update\n",
    "\n",
    "> sudo apt-get upgrade\n",
    "\n",
    "> sudo apt-get install build-essential cmake pkg-config\n",
    "\n",
    "> sudo apt-get install libjpeg8-dev libtiff5-dev libjasper-dev libpng12-dev\n",
    "\n",
    "> sudo apt-get install libavcodec-dev libavformat-dev libswscale-dev libv4l-dev\n",
    "\n",
    "> sudo apt-get install libxvidcore-dev libx264-dev\n",
    "\n",
    "> sudo apt-get install libgtk-3-dev\n",
    "\n",
    "> sudo apt-get install libatlas-base-dev gfortran"
   ]
  },
  {
   "cell_type": "markdown",
   "metadata": {},
   "source": [
    "## Step 4: Install Python 3.6"
   ]
  },
  {
   "cell_type": "markdown",
   "metadata": {},
   "source": [
    "> sudo add-apt-repository ppa:deadsnakes/ppa\n",
    "    \n",
    "> sudo apt-get update\n",
    "\n",
    "> sudo apt-get install python2.7-dev python3.6-dev"
   ]
  },
  {
   "cell_type": "markdown",
   "metadata": {},
   "source": [
    "## Step 5: Download OpenCV 3.4.1"
   ]
  },
  {
   "cell_type": "markdown",
   "metadata": {},
   "source": [
    "> wget -O opencv.zip https://github.com/Itseez/opencv/archive/3.4.1.zip\n",
    "\n",
    "> unzip opencv.zip\n",
    "\n",
    "> wget -O opencv_contrib.zip https://github.com/Itseez/opencv_contrib/archive/3.4.1.zip\n",
    "\n",
    "> unzip opencv_contrib.zip"
   ]
  },
  {
   "cell_type": "markdown",
   "metadata": {},
   "source": [
    "## Step 6: Create a virtual environment for Python 3.6"
   ]
  },
  {
   "cell_type": "markdown",
   "metadata": {},
   "source": [
    "Install virtual environments\n",
    "\n",
    "> wget https://bootstrap.pypa.io/get-pip.py\n",
    "\n",
    "> sudo python get-pip.py\n",
    "\n",
    "> sudo pip install virtualenv virtualenvwrapper\n",
    "\n",
    "> sudo rm -rf get-pip.py .cache/pip\n",
    "\n",
    "Open the .bashrc file for editing using Vi.\n",
    "\n",
    "> sudo vi ~/.bashrc\n",
    "\n",
    "Add the two lines below to ~/.bashrc \n",
    "\n",
    "> export WORKON_HOME=$HOME/.virtualenvs\n",
    "\n",
    "> source /usr/local/bin/virtualenvwrapper.sh\n",
    "\n",
    "Reload .bashrc\n",
    "\n",
    "> source ~/.bashrc\n",
    "\n",
    "Create a new virtual environment named p36\n",
    "\n",
    "> mkvirtualenv p36 -p python3.6"
   ]
  },
  {
   "cell_type": "markdown",
   "metadata": {},
   "source": [
    "## Step 7: Install Numpy and compile OpenCV from source (the last command takes a long time to finish, about an hour and 20 minutes)"
   ]
  },
  {
   "cell_type": "markdown",
   "metadata": {},
   "source": [
    "> pip install numpy\n",
    "\n",
    "> cd opencv-3.4.1/\n",
    "\n",
    "> mkdir build\n",
    "\n",
    "> cd build\n",
    "\n",
    "> cmake -D CMAKE_BUILD_TYPE=RELEASE \\\n",
    "    -D CMAKE_INSTALL_PREFIX=/usr/local \\\n",
    "    -D INSTALL_PYTHON_EXAMPLES=ON \\\n",
    "    -D INSTALL_C_EXAMPLES=OFF \\\n",
    "    -D OPENCV_EXTRA_MODULES_PATH=~/downloads/opencv_contrib-3.4.1/modules \\\n",
    "    -D PYTHON_EXECUTABLE=~/.virtualenvs/p36/bin/python \\\n",
    "    -D BUILD_EXAMPLES=ON ..\n",
    "\n",
    "> make -j4"
   ]
  },
  {
   "cell_type": "markdown",
   "metadata": {},
   "source": [
    "## Step 8: Manually add Python 3.6 bindings"
   ]
  },
  {
   "cell_type": "markdown",
   "metadata": {},
   "source": [
    "This step is essential to get the installation to finish successfully. It is based on https://github.com/opencv/opencv/issues/10771\n",
    "\n",
    "> deactivate\n",
    "\n",
    "> python ../modules/python/src2/gen2.py ../build/modules/python_bindings_generator ../build/modules/python_bindings_generator/headers.txt"
   ]
  },
  {
   "cell_type": "markdown",
   "metadata": {},
   "source": [
    "## Step 9: Install OpenCV and adjust file names"
   ]
  },
  {
   "cell_type": "markdown",
   "metadata": {},
   "source": [
    "> sudo make install\n",
    "\n",
    "> sudo ldconfig\n",
    "\n",
    "> cd /usr/local/lib/python3.6/site-packages/\n",
    "\n",
    "> sudo mv cv2.cpython-36m-x86_64-linux-gnu.so cv2.so\n",
    "\n",
    "> cd ~/.virtualenvs/p36/lib/python3.6/site-packages/\n",
    "\n",
    "> ln -s /usr/local/lib/python3.6/site-packages/cv2.so cv2.so"
   ]
  },
  {
   "cell_type": "markdown",
   "metadata": {},
   "source": [
    "## Step 10: Install other machine learning packages"
   ]
  },
  {
   "cell_type": "markdown",
   "metadata": {},
   "source": [
    "> workon p36\n",
    "\n",
    "Below are the packages I installed. Obviously choose the ones that you need.\n",
    "\n",
    "> pip install pandas\n",
    "\n",
    "> pip install scikit-learn\n",
    "\n",
    "> pip install scikit-image\n",
    "\n",
    "> pip install h5py\n",
    "\n",
    "> pip install catboost\n",
    "\n",
    "> pip install tensorflow-gpu\n",
    "\n",
    "> pip install keras\n",
    "\n",
    "> pip install dlib\n",
    "\n",
    "> pip install http://download.pytorch.org/whl/cu90/torch-0.3.1-cp36-cp36m-linux_x86_64.whl\n",
    "\n",
    "> pip install torchvision"
   ]
  },
  {
   "cell_type": "markdown",
   "metadata": {},
   "source": [
    "## And we are done!"
   ]
  }
 ],
 "metadata": {
  "kernelspec": {
   "display_name": "Python 3",
   "language": "python",
   "name": "python3"
  },
  "language_info": {
   "codemirror_mode": {
    "name": "ipython",
    "version": 3
   },
   "file_extension": ".py",
   "mimetype": "text/x-python",
   "name": "python",
   "nbconvert_exporter": "python",
   "pygments_lexer": "ipython3",
   "version": "3.6.3"
  }
 },
 "nbformat": 4,
 "nbformat_minor": 2
}
